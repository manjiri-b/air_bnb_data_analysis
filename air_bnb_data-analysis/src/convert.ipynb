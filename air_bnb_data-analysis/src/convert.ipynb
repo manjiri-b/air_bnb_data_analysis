{
 "cells": [
  {
   "cell_type": "code",
   "execution_count": 7,
   "metadata": {},
   "outputs": [
    {
     "name": "stdout",
     "output_type": "stream",
     "text": [
      "Index(['id', 'name', 'host_id', 'host_name', 'neighbourhood_group',\n",
      "       'neighbourhood', 'latitude', 'longitude', 'room_type', 'price',\n",
      "       'minimum_nights', 'number_of_reviews', 'last_review',\n",
      "       'reviews_per_month', 'calculated_host_listings_count',\n",
      "       'availability_365'],\n",
      "      dtype='object')\n",
      "<class 'pandas.core.frame.DataFrame'>\n",
      "Int64Index: 31342 entries, 0 to 48894\n",
      "Data columns (total 11 columns):\n",
      " #   Column               Non-Null Count  Dtype  \n",
      "---  ------               --------------  -----  \n",
      " 0   id                   31342 non-null  int64  \n",
      " 1   name                 31342 non-null  object \n",
      " 2   host_name            31342 non-null  object \n",
      " 3   neighbourhood_group  31342 non-null  object \n",
      " 4   latitude             31342 non-null  float64\n",
      " 5   longitude            31342 non-null  float64\n",
      " 6   room_type            31342 non-null  object \n",
      " 7   price                31342 non-null  int64  \n",
      " 8   minimum_nights       31342 non-null  int64  \n",
      " 9   number_of_reviews    31342 non-null  int64  \n",
      " 10  availability_365     31342 non-null  int64  \n",
      "dtypes: float64(2), int64(5), object(4)\n",
      "memory usage: 2.9+ MB\n"
     ]
    }
   ],
   "source": [
    "import pandas as pd \n",
    "\n",
    "df = pd.read_csv(\"../data/raw/AB_NYC_2019.csv\")\n",
    "\n",
    "print(df.columns)\n",
    "#Keeping only columns relevant to analysis by subsettinng\n",
    "df = df[['id', 'name', 'host_name', 'neighbourhood_group','latitude', 'longitude', 'room_type', 'price',\n",
    "       'minimum_nights', 'number_of_reviews','availability_365']]\n",
    "\n",
    "#Removing redundant columns, id and host_id (just keep id), neighborhood group and neighborhood, \n",
    "#keeping neighborhood group, 'number_of_reviews', 'last_review','reviews_per_month', 'calculated_host_listings_count'\n",
    "#capture similar information so out of these three keeping number_of_reviews column only\n",
    "\n",
    "\n",
    "#Removing rows where price = 0 and minimum_nights > 0\n",
    "#Clean up of data\n",
    "df = df.loc[df['price']>0]\n",
    "df = df.loc[df['minimum_nights']>0]\n",
    "df = df.loc[df['availability_365']>0]\n",
    "df = df.dropna()\n",
    "\n",
    "df.info()\n",
    "#df.number_of_reviews.max()\n",
    "#df.shape\n",
    "df.to_csv('air_bnb_data_NYC.csv', index = False)"
   ]
  },
  {
   "cell_type": "code",
   "execution_count": null,
   "metadata": {},
   "outputs": [],
   "source": []
  },
  {
   "cell_type": "code",
   "execution_count": null,
   "metadata": {},
   "outputs": [],
   "source": []
  }
 ],
 "metadata": {
  "kernelspec": {
   "display_name": "Python 3",
   "language": "python",
   "name": "python3"
  },
  "language_info": {
   "codemirror_mode": {
    "name": "ipython",
    "version": 3
   },
   "file_extension": ".py",
   "mimetype": "text/x-python",
   "name": "python",
   "nbconvert_exporter": "python",
   "pygments_lexer": "ipython3",
   "version": "3.8.5"
  }
 },
 "nbformat": 4,
 "nbformat_minor": 4
}
