{
 "cells": [
  {
   "cell_type": "markdown",
   "metadata": {},
   "source": [
    "## Questions of Inquiry: ##\n",
    "1. Which neighborhood has the highest mean airBNB price?\n",
    "    - Summary Statistics \n",
    "    - Visualization\n",
    "2. Exploring the price difference between the prices of different room types?\n",
    "    - Visualization\n",
    "3. What is the relationship between number_of_reviews and price of listing? (using correlation)\n",
    "    - Transforming Column to Find Z-Score\n",
    "    - Summary statistics/Correlation Matrix\n",
    "4. Finding number of listings by borough?\n",
    "    - Using Value Counts\n",
    "    - Using visualization\n",
    "5. Most expensive and least expensive listing overall in terms of minimum expenditure?\n",
    "    - Creating a new column: Total minimum expense new column = min nights x price of listing\n",
    "    - Summary Statistics of that column\n",
    "6. Geo location distribution of the Air BnBs?\n",
    "    - Visualization\n",
    "    \n",
    "Data set was documented in the previous assignment."
   ]
  },
  {
   "cell_type": "markdown",
   "metadata": {},
   "source": [
    "### Importing and Clean Up ###"
   ]
  },
  {
   "cell_type": "code",
   "execution_count": 2,
   "metadata": {},
   "outputs": [
    {
     "data": {
      "text/plain": [
       "Index(['id', 'name', 'host_id', 'host_name', 'neighbourhood_group',\n",
       "       'neighbourhood', 'latitude', 'longitude', 'room_type', 'price',\n",
       "       'minimum_nights', 'number_of_reviews', 'last_review',\n",
       "       'reviews_per_month', 'calculated_host_listings_count',\n",
       "       'availability_365'],\n",
       "      dtype='object')"
      ]
     },
     "execution_count": 2,
     "metadata": {},
     "output_type": "execute_result"
    }
   ],
   "source": [
    "import pandas as pd \n",
    "import matplotlib.pyplot as plt \n",
    "import numpy as np \n",
    "\n",
    "bnb_df = pd.read_csv(\"../data/raw/AB_NYC_2019.csv\")\n",
    "\n",
    "#Keeping only columns relevant to analysis by subsettinng\n",
    "bnb_df_relevant = bnb_df[['id', 'name','neighbourhood_group','latitude', 'longitude','room_type','price',\n",
    "                         'minimum_nights', 'number_of_reviews']]\n",
    "\n",
    "#Removing rows where price = 0 Clean up of data\n",
    "bnb_df_relevant = bnb_df_relevant.loc[bnb_df_relevant['price']>0]\n",
    "\n",
    "#Used bnb_df_relevant.info() to check data type of each column. No type conversion is required as they are already appropriate\n",
    "bnb_df.columns"
   ]
  },
  {
   "cell_type": "markdown",
   "metadata": {},
   "source": [
    "Imported the data using pandas .read_csv() function. Created a subset of the data that kept the columns relevant to the analysis questions. Since the price column has values of 0 (which suggests the researcher has replaced missing values with 0 as price of a AirBnB listing is >0), using .loc[], only rows that have a price value of over 0 were kept.Used bnb_df_relevant.info() to check data type of each column. No type conversion is required as they are already appropriate."
   ]
  },
  {
   "cell_type": "markdown",
   "metadata": {},
   "source": [
    "### 1. Which neighborhood has the highest mean airBNB price? ###"
   ]
  },
  {
   "cell_type": "code",
   "execution_count": 16,
   "metadata": {},
   "outputs": [
    {
     "name": "stdout",
     "output_type": "stream",
     "text": [
      "Manhattan Air BnB Prices Summary Statistics\n",
      "count    21660.000000\n",
      "mean       196.884903\n",
      "std        291.386838\n",
      "min         10.000000\n",
      "25%         95.000000\n",
      "50%        150.000000\n",
      "75%        220.000000\n",
      "max      10000.000000\n",
      "Name: price, dtype: float64\n",
      "\n",
      "Brooklyn Air BnB Prices Summary Statistics\n",
      "count    20095.000000\n",
      "mean       124.438915\n",
      "std        186.896837\n",
      "min         10.000000\n",
      "25%         60.000000\n",
      "50%         90.000000\n",
      "75%        150.000000\n",
      "max      10000.000000\n",
      "Name: price, dtype: float64\n",
      "\n",
      "Queens Air BnB Prices Summary Statistics\n",
      "count     5666.000000\n",
      "mean        99.517649\n",
      "std        167.102155\n",
      "min         10.000000\n",
      "25%         50.000000\n",
      "50%         75.000000\n",
      "75%        110.000000\n",
      "max      10000.000000\n",
      "Name: price, dtype: float64\n",
      "\n",
      "Staten Island Air BnB Prices Summary Statistics\n",
      "count     373.000000\n",
      "mean      114.812332\n",
      "std       277.620403\n",
      "min        13.000000\n",
      "25%        50.000000\n",
      "50%        75.000000\n",
      "75%       110.000000\n",
      "max      5000.000000\n",
      "Name: price, dtype: float64\n",
      "\n",
      "Bronx Air BnB Prices Summary Statistics\n",
      "count    1090.000000\n",
      "mean       87.577064\n",
      "std       106.725371\n",
      "min        10.000000\n",
      "25%        45.000000\n",
      "50%        65.000000\n",
      "75%        99.000000\n",
      "max      2500.000000\n",
      "Name: price, dtype: float64\n"
     ]
    },
    {
     "data": {
      "image/png": "[encoded data removed]",
      "text/plain": [
       "<Figure size 432x288 with 1 Axes>"
      ]
     },
     "metadata": {
      "needs_background": "light"
     },
     "output_type": "display_data"
    }
   ],
   "source": [
    "#Subsetting data based on neighborhood\n",
    "\n",
    "#First finding how many unique neighborhoods there are\n",
    "bnb_df_relevant['neighbourhood_group'].unique()\n",
    "\n",
    "#This gives 5 Unique Neighborhoods: 'Brooklyn', 'Manhattan', 'Queens', 'Staten Island', 'Bronx'\n",
    "subset_manhattan = bnb_df_relevant.loc[bnb_df_relevant['neighbourhood_group'] == 'Manhattan']\n",
    "subset_brooklyn = bnb_df_relevant.loc[bnb_df_relevant['neighbourhood_group'] == 'Brooklyn']\n",
    "subset_queens = bnb_df_relevant.loc[bnb_df_relevant['neighbourhood_group'] == 'Queens']\n",
    "subset_statisl = bnb_df_relevant.loc[bnb_df_relevant['neighbourhood_group'] == 'Staten Island']\n",
    "subset_bronx = bnb_df_relevant.loc[bnb_df_relevant['neighbourhood_group'] == 'Bronx']\n",
    "\n",
    "#Getting summary statistics\n",
    "print(\"Manhattan Air BnB Prices Summary Statistics\")\n",
    "print(subset_manhattan['price'].describe())\n",
    "\n",
    "print()\n",
    "print(\"Brooklyn Air BnB Prices Summary Statistics\")\n",
    "print(subset_brooklyn['price'].describe())\n",
    "\n",
    "print()\n",
    "print(\"Queens Air BnB Prices Summary Statistics\")\n",
    "print(subset_queens['price'].describe())\n",
    "\n",
    "print()\n",
    "print(\"Staten Island Air BnB Prices Summary Statistics\")\n",
    "print(subset_statisl['price'].describe())\n",
    "\n",
    "print()\n",
    "print(\"Bronx Air BnB Prices Summary Statistics\")\n",
    "print(subset_bronx['price'].describe())\n",
    "\n",
    "#Using the mean and plotting it\n",
    "means_neigh = [subset_manhattan['price'].mean(), subset_brooklyn['price'].mean(), subset_queens['price'].mean(),\n",
    "               subset_statisl['price'].mean(), subset_bronx['price'].mean()]\n",
    "means_series = pd.Series(means_neigh, index = ['Manhattan','Brooklyn','Queens', 'Staten Island', 'Bronx'])\n",
    "\n",
    "#Using matplot lib for visualization\n",
    "means_series.plot.bar(rot=0)\n",
    "plt.xlabel(\"Neighborhood\")\n",
    "plt.ylabel(\"Mean AirBnB Price\")\n",
    "plt.title(\"Mean AirBnB Prices of NYC Neighborhoods\")\n",
    "plt.show()"
   ]
  },
  {
   "cell_type": "markdown",
   "metadata": {},
   "source": [
    "Manhattan has the highest average airBnB price, $196.88, followed by Brooklyn, $124.44, then Staten Island, $144.81, then Queens, $99.52, and lastly Bronx, $87.58."
   ]
  },
  {
   "cell_type": "markdown",
   "metadata": {},
   "source": [
    "Data for the 5 boroughs, were subsetted separately using the .loc[] function. It was specified that only observations to be kept were if df['BOROUGH'] == borough respectively and all remaining columns were kept. describe() was used to obtain the summary statistics for each borough. The mean for each borough was added to a list of means and a series was made from this list of means in which the index are the name of boroughs. Then plot.bar() was called on the series to plot the means AirBnB prices by neighborhood."
   ]
  },
  {
   "cell_type": "markdown",
   "metadata": {},
   "source": [
    "### 2. Exploring the price difference between the prices of different room types? ###"
   ]
  },
  {
   "cell_type": "code",
   "execution_count": 21,
   "metadata": {},
   "outputs": [
    {
     "data": {
      "image/png": "[encoded data removed]",
      "text/plain": [
       "<Figure size 432x288 with 1 Axes>"
      ]
     },
     "metadata": {
      "needs_background": "light"
     },
     "output_type": "display_data"
    }
   ],
   "source": [
    "#First finding how many unique room types there are and making it the index\n",
    "index_roomtyp = bnb_df_relevant['room_type'].unique() \n",
    "means_roomtyp = []\n",
    "\n",
    "#Using a for loop over index to extract mean of prices by room type\n",
    "\n",
    "for room in index_roomtyp:\n",
    "    \n",
    "    #Subsetting data first\n",
    "    #Then finding mean\n",
    "    subset_room = bnb_df_relevant.loc[bnb_df_relevant['room_type'] == room]\n",
    "    means_roomtyp.append(subset_room['price'].mean())\n",
    "\n",
    "means_series_roomtyp = pd.Series(means_roomtyp, index = index_roomtyp)\n",
    "\n",
    "#Visualization\n",
    "means_series_roomtyp.plot.bar(rot=0)\n",
    "plt.xlabel(\"Room Type\")\n",
    "plt.ylabel(\"Mean AirBnB Price\")\n",
    "plt.title(\"Mean AirBnB Prices for Different Room Types\")\n",
    "plt.show()"
   ]
  },
  {
   "cell_type": "markdown",
   "metadata": {},
   "source": [
    "The most expensive room type on average is entire home/apt, which from the bar plot looks significantly higher than the other two types. It's more than double of the other room types respectively."
   ]
  },
  {
   "cell_type": "markdown",
   "metadata": {},
   "source": [
    "First, I used .unique() to obtain an array of the unique room types. This was assigned to a variable index_roomtyp. A for loop was used to iterate over each room type. Inside the for loop, a temporary subset of the data was created using .loc[] to select just the rows of desired room type. Then, the mean of the price column of these subsets were appended to the empty mean list created before the for loop. A series was then created using the means list and index was set to the index_roomtyp variable. Then plot.bar() was used to plot the mean airBnB prices for the different room types."
   ]
  },
  {
   "cell_type": "markdown",
   "metadata": {},
   "source": [
    "### 3. What is the relationship between number_of_reviews and price of listing? ###"
   ]
  },
  {
   "cell_type": "code",
   "execution_count": 71,
   "metadata": {},
   "outputs": [
    {
     "name": "stdout",
     "output_type": "stream",
     "text": [
      "                     price  number_of_reviews\n",
      "price              1.00000           -0.05163\n",
      "number_of_reviews -0.05163            1.00000\n"
     ]
    }
   ],
   "source": [
    "#Transforming column to find zscores to filter out outliers\n",
    "sub_rev_price = bnb_df_relevant[['price','number_of_reviews']].transform(lambda x: abs((x-x.mean())/x.std()))\n",
    "filter_cond = (sub_rev_price.to_numpy() < 3).all(axis=1)\n",
    "clean_revprice = bnb_df_relevant[['price','number_of_reviews']][filter_cond]\n",
    "\n",
    "#Printing out the correlation matrix\n",
    "print(clean_revprice.corr())"
   ]
  },
  {
   "cell_type": "markdown",
   "metadata": {},
   "source": [
    "There is a weak negative correlation, of -0.05163, between price and number of reviews. This means that as price increases the number of reviews decreases and vice versa. This relationship could be because people tend to look at budget friendly places and would usually opt for the cheaper option. Thus, a cheaper place will most probably have more customers, hence more reviews in general."
   ]
  },
  {
   "cell_type": "markdown",
   "metadata": {},
   "source": [
    ".transform(lambda x: abs((x-x.mean())/x.std())) was used to find the absolute values of z-scores of the price and number of reviews column. This was done so that outliers can be removed. Then the filter condition was specified where the z-score < 3 (chosen threshold) and .all() was used to produce a list of Boolean values which specify which values to be kept. This filter was then used as an index on the original price and number of reviews column and assigned to a variable, clean_revprice which is a subset of the price and number_of_reviews columns minus the outliers. Then .corr() was used to create a correlation matrix between the two columns."
   ]
  },
  {
   "cell_type": "markdown",
   "metadata": {},
   "source": [
    "### 4. Finding number of listings by borough? ###"
   ]
  },
  {
   "cell_type": "code",
   "execution_count": 3,
   "metadata": {},
   "outputs": [
    {
     "data": {
      "image/png": "[encoded data removed]",
      "text/plain": [
       "<Figure size 432x288 with 1 Axes>"
      ]
     },
     "metadata": {
      "needs_background": "light"
     },
     "output_type": "display_data"
    },
    {
     "data": {
      "text/plain": [
       "Manhattan        21660\n",
       "Brooklyn         20095\n",
       "Queens            5666\n",
       "Bronx             1090\n",
       "Staten Island      373\n",
       "Name: neighbourhood_group, dtype: int64"
      ]
     },
     "execution_count": 3,
     "metadata": {},
     "output_type": "execute_result"
    }
   ],
   "source": [
    "neighborhood_data = bnb_df_relevant['neighbourhood_group'].dropna().value_counts()\n",
    "neighborhood_data.plot.bar(rot=0)\n",
    "plt.xlabel(\"Neighborhood\")\n",
    "plt.ylabel(\"Number of Air BnB Listings\")\n",
    "plt.title(\"Number of Air BnB Listings by Neighborhood\")\n",
    "plt.show()\n",
    "\n",
    "neighborhood_data"
   ]
  },
  {
   "cell_type": "markdown",
   "metadata": {},
   "source": [
    "Manhattan has the highest number of listings follwed by Brooklyn, Queens, Bronx, and lastly Staten Island."
   ]
  },
  {
   "cell_type": "markdown",
   "metadata": {},
   "source": [
    "I isolated the neighborhood_group column using df[column name] syntax. Then .dropna() was used to drop all the NaN values. Then .value_counts() was called on it so that it counts the number of times each borough appears in the data. Value counts automatically sorts the counts in descending order. Then .plot.bar() was used to create a bar graph showing the number of AirBnB Listings by Neighborhood."
   ]
  },
  {
   "cell_type": "markdown",
   "metadata": {},
   "source": [
    "### 5. Most expensive and least expensive listing overall in terms of minimum expenditure? ###"
   ]
  },
  {
   "cell_type": "code",
   "execution_count": 81,
   "metadata": {},
   "outputs": [
    {
     "data": {
      "text/plain": [
       "count    4.888400e+04\n",
       "mean     1.284722e+03\n",
       "std      1.180588e+04\n",
       "min      1.000000e+01\n",
       "25%      1.350000e+02\n",
       "50%      3.000000e+02\n",
       "75%      7.350000e+02\n",
       "max      1.170000e+06\n",
       "Name: min_total_expense, dtype: float64"
      ]
     },
     "execution_count": 81,
     "metadata": {},
     "output_type": "execute_result"
    }
   ],
   "source": [
    "#Creating a new column: Total minimum expense new column = min nights x price of listing\n",
    "bnb_df_relevant['min_total_expense'] = bnb_df_relevant['price'] * bnb_df_relevant['minimum_nights']\n",
    "\n",
    "#Summary Statistics of new column\n",
    "bnb_df_relevant['min_total_expense'].describe()"
   ]
  },
  {
   "cell_type": "markdown",
   "metadata": {},
   "source": [
    "From the summary statistics of the column, the most expensive listing is $1170000, and the least expensive listing is $10. The average total minimal expenditure is approximately $1284.72. "
   ]
  },
  {
   "cell_type": "markdown",
   "metadata": {},
   "source": [
    "Creating a new column: Total minimum expense new column = min nights x price of listing using the syntax \n",
    "df[new column] = df[column1] * df[column2]. Then .describe() was called on this new column to obtain the summary statistics."
   ]
  },
  {
   "cell_type": "markdown",
   "metadata": {},
   "source": [
    "### 6. Geo location distribution of the Air BnBs? ###"
   ]
  },
  {
   "cell_type": "code",
   "execution_count": 83,
   "metadata": {},
   "outputs": [
    {
     "data": {
      "image/png": "[encoded data removed]",
      "text/plain": [
       "<Figure size 432x288 with 1 Axes>"
      ]
     },
     "metadata": {
      "needs_background": "light"
     },
     "output_type": "display_data"
    }
   ],
   "source": [
    "#Plotting the scatter plots\n",
    "plt.scatter(subset_manhattan['latitude'],subset_manhattan['longitude'], c = 'red', label = \"Manhattan\")\n",
    "plt.scatter(subset_brooklyn['latitude'],subset_brooklyn['longitude'],  c = 'blue', label = \"Brooklyn\")\n",
    "plt.scatter(subset_queens['latitude'],subset_queens['longitude'], c = 'green', label = \"Queens\")\n",
    "plt.scatter(subset_bronx['latitude'],subset_bronx['longitude'], c = 'coral', label = \"Bronx\")\n",
    "plt.scatter(subset_statisl['latitude'],subset_statisl['longitude'], c = 'purple', label = \"Staten Island\")\n",
    "plt.xlabel('Latitude')\n",
    "plt.ylabel('Longitude')\n",
    "plt.title('Geo Location Distribution of AirBnBs')\n",
    "plt.legend()\n",
    "plt.show()"
   ]
  },
  {
   "cell_type": "markdown",
   "metadata": {},
   "source": [
    "Shows the density of AirBnBs in each area. Manhattan looks the most dense whil Staten Island looks the least dense."
   ]
  },
  {
   "cell_type": "markdown",
   "metadata": {},
   "source": [
    "The data subsetted in part 1 was used in this section. After this the .scatter() function with latitude column as x and longitude column as y was used to plot the data points for each borough. Keyword 'c' was used to specify the colors of the data points and 'label' was used to specify the name of the borough being plotted, which was then shown through the plt.legend() function. X-axis title, Y-axis title and main title were specified using plt.xlabel(), plt.ylabel() and plt.title() respectively."
   ]
  }
 ],
 "metadata": {
  "kernelspec": {
   "display_name": "Python 3",
   "language": "python",
   "name": "python3"
  },
  "language_info": {
   "codemirror_mode": {
    "name": "ipython",
    "version": 3
   },
   "file_extension": ".py",
   "mimetype": "text/x-python",
   "name": "python",
   "nbconvert_exporter": "python",
   "pygments_lexer": "ipython3",
   "version": "3.8.5"
  }
 },
 "nbformat": 4,
 "nbformat_minor": 4
}
